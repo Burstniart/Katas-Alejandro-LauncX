{
 "cells": [
  {
   "cell_type": "markdown",
   "metadata": {},
   "source": [
    "### Kata5.1"
   ]
  },
  {
   "cell_type": "code",
   "execution_count": 10,
   "metadata": {},
   "outputs": [],
   "source": [
    "# Crear variables para almacenar las dos distancias\n",
    "# ¡Asegúrate de quitar las comas!\n",
    "\n",
    "Tierra = 149597870\n",
    "Jupiter = 778547200"
   ]
  },
  {
   "cell_type": "code",
   "execution_count": 11,
   "metadata": {},
   "outputs": [
    {
     "name": "stdout",
     "output_type": "stream",
     "text": [
      "628949330 Km\n",
      "390577533.93 mi\n"
     ]
    }
   ],
   "source": [
    "# Calcular la distancia entre planetas\n",
    "\n",
    "dist = Jupiter - Tierra\n",
    "print(dist, \"Km\") \n",
    "distMille = dist * 0.621\n",
    "print(distMille, \"mi\")"
   ]
  },
  {
   "cell_type": "markdown",
   "metadata": {},
   "source": [
    "### Kata5.2"
   ]
  },
  {
   "cell_type": "code",
   "execution_count": 12,
   "metadata": {},
   "outputs": [
    {
     "name": "stdout",
     "output_type": "stream",
     "text": [
      "Tabla de referencia: \n",
      "Mercurio = 57900000\n",
      "Venus = 108200000\n",
      "Tierra = 149600000\n",
      "Marte = 227900000\n",
      "Jupiter = 778600000\n",
      "Saturno = 1433500000\n",
      "Urano = 2872500000\n",
      "Neptuno = 4495100000\n",
      "\n",
      "Calcular la distancia entre dos planetas\n"
     ]
    }
   ],
   "source": [
    "\n",
    "print('''Tabla de referencia: \n",
    "Mercurio = 57900000\n",
    "Venus = 108200000\n",
    "Tierra = 149600000\n",
    "Marte = 227900000\n",
    "Jupiter = 778600000\n",
    "Saturno = 1433500000\n",
    "Urano = 2872500000\n",
    "Neptuno = 4495100000\n",
    "''')\n",
    "\n",
    "# Almacenar las entradas del usuario\n",
    "\n",
    "print(\"Calcular la distancia entre dos planetas\")\n",
    "p1 = input(\"Distancia al sol del primer planeta: \")\n",
    "p2 = input(\"Distancia al sol del segundo planeta: \")"
   ]
  },
  {
   "cell_type": "code",
   "execution_count": 13,
   "metadata": {},
   "outputs": [],
   "source": [
    "# Convierte las cadenas de ambos planetas a números enteros\n",
    "\n",
    "p1 = int(p1)\n",
    "p2 = int(p2)"
   ]
  },
  {
   "cell_type": "code",
   "execution_count": 14,
   "metadata": {},
   "outputs": [
    {
     "name": "stdout",
     "output_type": "stream",
     "text": [
      "Distancia en Km: 50300000  km\n",
      "Distancia en Mi: 31236300.0  mi\n"
     ]
    }
   ],
   "source": [
    "# Realizar el cálculo y determinar el valor absoluto\n",
    "# Convertir de KM a Millas\n",
    "\n",
    "dist = p1 - p2\n",
    "dist = abs(dist)\n",
    "distMill =  dist * 0.621\n",
    "\n",
    "print(\"Distancia en Km:\", dist, \" km\")\n",
    "print(\"Distancia en Mi:\", distMill, \" mi\")"
   ]
  }
 ],
 "metadata": {
  "interpreter": {
   "hash": "2826e8e7e47576398fbfb6554ddd3ed21eece1a2dffa9c30f4dd5c73b99f988b"
  },
  "kernelspec": {
   "display_name": "Python 3.9.6 64-bit",
   "language": "python",
   "name": "python3"
  },
  "language_info": {
   "codemirror_mode": {
    "name": "ipython",
    "version": 3
   },
   "file_extension": ".py",
   "mimetype": "text/x-python",
   "name": "python",
   "nbconvert_exporter": "python",
   "pygments_lexer": "ipython3",
   "version": "3.9.6"
  },
  "orig_nbformat": 4
 },
 "nbformat": 4,
 "nbformat_minor": 2
}
