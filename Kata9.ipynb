{
 "cells": [
  {
   "cell_type": "markdown",
   "metadata": {},
   "source": [
    "### Kata 9.1"
   ]
  },
  {
   "cell_type": "code",
   "execution_count": 1,
   "metadata": {},
   "outputs": [],
   "source": [
    "# Función para leer 3 tanques de combustible y muestre el promedio\n",
    "def combTanques(tanque1, tanque2, tanque3):\n",
    "    total = (tanque1 + tanque2 + tanque3) / 3\n",
    "    return f\"\"\"Combustible promedio de tanques: {total}\n",
    "    Combustible tanque 1: {tanque1}\n",
    "    Combustible tanque 2: {tanque2}\n",
    "    Combustible tanque 3: {tanque3}  \n",
    "    \"\"\""
   ]
  },
  {
   "cell_type": "code",
   "execution_count": 2,
   "metadata": {},
   "outputs": [
    {
     "name": "stdout",
     "output_type": "stream",
     "text": [
      "Combustible promedio de tanques: 13.333333333333334\n",
      "    Combustible tanque 1: 10\n",
      "    Combustible tanque 2: 20\n",
      "    Combustible tanque 3: 10  \n",
      "    \n"
     ]
    }
   ],
   "source": [
    "# Llamamos a la función que genera el reporte print(funcion(tanque1, tanque2, tanque3))\n",
    "\n",
    "print(combTanques(10,20,10))"
   ]
  },
  {
   "cell_type": "code",
   "execution_count": 3,
   "metadata": {},
   "outputs": [
    {
     "data": {
      "text/plain": [
       "13.333333333333334"
      ]
     },
     "execution_count": 3,
     "metadata": {},
     "output_type": "execute_result"
    }
   ],
   "source": [
    "# Función promedio \n",
    "\n",
    "def promedio(nums):\n",
    "    return sum(nums) / len(nums)\n",
    "\n",
    "promedio([10,20,10])"
   ]
  },
  {
   "cell_type": "code",
   "execution_count": 4,
   "metadata": {},
   "outputs": [
    {
     "name": "stdout",
     "output_type": "stream",
     "text": [
      "Combustible promedio de tanques: 82.0\n",
      "    Combustible tanque 1: 80\n",
      "    Combustible tanque 2: 85\n",
      "    Combustible tanque 3: 81  \n",
      "    \n"
     ]
    }
   ],
   "source": [
    "# Actualiza la función\n",
    "\n",
    "def combTanques2(tanque1, tanque2, tanque3):\n",
    "    total = (tanque1 + tanque2 + tanque3) / 3\n",
    "    return f\"\"\"Combustible promedio de tanques: {promedio([tanque1, tanque2, tanque3])}\n",
    "    Combustible tanque 1: {tanque1}\n",
    "    Combustible tanque 2: {tanque2}\n",
    "    Combustible tanque 3: {tanque3}  \n",
    "    \"\"\"\n",
    "print(combTanques2(80, 85, 81))"
   ]
  },
  {
   "cell_type": "markdown",
   "metadata": {},
   "source": [
    "### Kata 9.2"
   ]
  },
  {
   "cell_type": "code",
   "execution_count": 5,
   "metadata": {},
   "outputs": [
    {
     "name": "stdout",
     "output_type": "stream",
     "text": [
      "\n",
      "    Mission to Moon\n",
      "    Travel time: 68 mins\n",
      "    Fuel left: 12000 \n",
      "    \n"
     ]
    }
   ],
   "source": [
    "# Función con un informe preciso de la misión. Considera hora de prelanzamiento, tiempo de vuelo, destino, tanque externo y tanque interno\n",
    "\n",
    "def report(launchHour, flightT, destination, extTank, intTank):\n",
    "    return f\"\"\"\n",
    "    Mission to {destination}\n",
    "    Travel time: {launchHour + flightT} mins\n",
    "    Fuel left: {extTank + intTank} \n",
    "    \"\"\"\n",
    "\n",
    "print(report(8, 60, \"Moon\", 5000, 7000))"
   ]
  },
  {
   "cell_type": "code",
   "execution_count": 6,
   "metadata": {},
   "outputs": [
    {
     "name": "stdout",
     "output_type": "stream",
     "text": [
      "\n",
      "    Mission to Moon\n",
      "    Travel time: 68 minutes\n",
      "    Fuel left: 12000\n",
      "    \n"
     ]
    }
   ],
   "source": [
    "# Escribe tu nueva función de reporte considerando lo anterior\n",
    "\n",
    "def mission_report(destination, *minutes, **fuelReservoirs):\n",
    "    return f\"\"\"\n",
    "    Mission to {destination}\n",
    "    Travel time: {sum(minutes)} minutes\n",
    "    Fuel left: {sum(fuelReservoirs.values())}\n",
    "    \"\"\"\n",
    "\n",
    "print(mission_report(\"Moon\",8, 60,  main=5000, ext= 7000))"
   ]
  },
  {
   "cell_type": "code",
   "execution_count": 9,
   "metadata": {},
   "outputs": [
    {
     "name": "stdout",
     "output_type": "stream",
     "text": [
      "\n",
      "    Mission to Moon\n",
      "    Travel time: 74 minutes\n",
      "    Fuel left: 12000\n",
      "    main Tank: 5000 gallons\n",
      "ext Tank: 7000 gallons\n",
      "\n"
     ]
    }
   ],
   "source": [
    "# Escribe tu nueva función\n",
    "\n",
    "def missionReport(destination, *minutes, **fuelReservoirs):\n",
    "    report = f\"\"\"\n",
    "    Mission to {destination}\n",
    "    Travel time: {sum(minutes)} minutes\n",
    "    Fuel left: {sum(fuelReservoirs.values())}\n",
    "    \"\"\"\n",
    "    for tank, capacity in fuelReservoirs.items():\n",
    "        report += f\"{tank} Tank: {capacity} gallons\\n\"\n",
    "    return report\n",
    "\n",
    "print(missionReport(\"Moon\", 8, 11, 55, main=5000, ext= 7000))"
   ]
  }
 ],
 "metadata": {
  "interpreter": {
   "hash": "2826e8e7e47576398fbfb6554ddd3ed21eece1a2dffa9c30f4dd5c73b99f988b"
  },
  "kernelspec": {
   "display_name": "Python 3.9.6 64-bit",
   "language": "python",
   "name": "python3"
  },
  "language_info": {
   "codemirror_mode": {
    "name": "ipython",
    "version": 3
   },
   "file_extension": ".py",
   "mimetype": "text/x-python",
   "name": "python",
   "nbconvert_exporter": "python",
   "pygments_lexer": "ipython3",
   "version": "3.9.6"
  },
  "orig_nbformat": 4
 },
 "nbformat": 4,
 "nbformat_minor": 2
}
